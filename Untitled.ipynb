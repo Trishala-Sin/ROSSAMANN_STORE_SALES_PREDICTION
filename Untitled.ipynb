{
 "cells": [
  {
   "cell_type": "code",
   "execution_count": 2,
   "metadata": {},
   "outputs": [],
   "source": [
    "import pandas as pd\n",
    "import numpy as np \n"
   ]
  },
  {
   "cell_type": "code",
   "execution_count": 7,
   "metadata": {},
   "outputs": [],
   "source": [
    "df = pd.read_csv('./inputDataProcessed.csv')"
   ]
  },
  {
   "cell_type": "raw",
   "metadata": {},
   "source": [
    "df.describe()"
   ]
  },
  {
   "cell_type": "code",
   "execution_count": 9,
   "metadata": {},
   "outputs": [
    {
     "data": {
      "text/html": [
       "<div>\n",
       "<style scoped>\n",
       "    .dataframe tbody tr th:only-of-type {\n",
       "        vertical-align: middle;\n",
       "    }\n",
       "\n",
       "    .dataframe tbody tr th {\n",
       "        vertical-align: top;\n",
       "    }\n",
       "\n",
       "    .dataframe thead th {\n",
       "        text-align: right;\n",
       "    }\n",
       "</style>\n",
       "<table border=\"1\" class=\"dataframe\">\n",
       "  <thead>\n",
       "    <tr style=\"text-align: right;\">\n",
       "      <th></th>\n",
       "      <th>Store</th>\n",
       "      <th>Sales</th>\n",
       "      <th>Customers</th>\n",
       "      <th>Promo</th>\n",
       "      <th>SchoolHoliday</th>\n",
       "      <th>CompetitionDistance</th>\n",
       "      <th>DayOfWeek_0</th>\n",
       "      <th>DayOfWeek_1</th>\n",
       "      <th>DayOfWeek_2</th>\n",
       "      <th>DayOfWeek_3</th>\n",
       "      <th>DayOfWeek_4</th>\n",
       "      <th>DayOfWeek_5</th>\n",
       "      <th>DayOfWeek_6</th>\n",
       "    </tr>\n",
       "  </thead>\n",
       "  <tbody>\n",
       "    <tr>\n",
       "      <th>count</th>\n",
       "      <td>11729.000000</td>\n",
       "      <td>11729.000000</td>\n",
       "      <td>11729.000000</td>\n",
       "      <td>11729.000000</td>\n",
       "      <td>11729.000000</td>\n",
       "      <td>11729.000000</td>\n",
       "      <td>11729.000000</td>\n",
       "      <td>11729.000000</td>\n",
       "      <td>11729.000000</td>\n",
       "      <td>11729.000000</td>\n",
       "      <td>11729.000000</td>\n",
       "      <td>11729.000000</td>\n",
       "      <td>11729.000000</td>\n",
       "    </tr>\n",
       "    <tr>\n",
       "      <th>mean</th>\n",
       "      <td>7.999915</td>\n",
       "      <td>6163.323472</td>\n",
       "      <td>731.306079</td>\n",
       "      <td>0.450081</td>\n",
       "      <td>0.197800</td>\n",
       "      <td>5823.814477</td>\n",
       "      <td>0.142212</td>\n",
       "      <td>0.143320</td>\n",
       "      <td>0.143405</td>\n",
       "      <td>0.143149</td>\n",
       "      <td>0.142808</td>\n",
       "      <td>0.142638</td>\n",
       "      <td>0.142467</td>\n",
       "    </tr>\n",
       "    <tr>\n",
       "      <th>std</th>\n",
       "      <td>4.319412</td>\n",
       "      <td>2399.510012</td>\n",
       "      <td>286.726340</td>\n",
       "      <td>0.497523</td>\n",
       "      <td>0.398358</td>\n",
       "      <td>9082.809657</td>\n",
       "      <td>0.349282</td>\n",
       "      <td>0.350414</td>\n",
       "      <td>0.350501</td>\n",
       "      <td>0.350240</td>\n",
       "      <td>0.349892</td>\n",
       "      <td>0.349718</td>\n",
       "      <td>0.349544</td>\n",
       "    </tr>\n",
       "    <tr>\n",
       "      <th>min</th>\n",
       "      <td>1.000000</td>\n",
       "      <td>612.000000</td>\n",
       "      <td>93.000000</td>\n",
       "      <td>0.000000</td>\n",
       "      <td>0.000000</td>\n",
       "      <td>40.000000</td>\n",
       "      <td>0.000000</td>\n",
       "      <td>0.000000</td>\n",
       "      <td>0.000000</td>\n",
       "      <td>0.000000</td>\n",
       "      <td>0.000000</td>\n",
       "      <td>0.000000</td>\n",
       "      <td>0.000000</td>\n",
       "    </tr>\n",
       "    <tr>\n",
       "      <th>25%</th>\n",
       "      <td>4.000000</td>\n",
       "      <td>4430.000000</td>\n",
       "      <td>532.000000</td>\n",
       "      <td>0.000000</td>\n",
       "      <td>0.000000</td>\n",
       "      <td>620.000000</td>\n",
       "      <td>0.000000</td>\n",
       "      <td>0.000000</td>\n",
       "      <td>0.000000</td>\n",
       "      <td>0.000000</td>\n",
       "      <td>0.000000</td>\n",
       "      <td>0.000000</td>\n",
       "      <td>0.000000</td>\n",
       "    </tr>\n",
       "    <tr>\n",
       "      <th>50%</th>\n",
       "      <td>8.000000</td>\n",
       "      <td>5734.000000</td>\n",
       "      <td>666.000000</td>\n",
       "      <td>0.000000</td>\n",
       "      <td>0.000000</td>\n",
       "      <td>1070.000000</td>\n",
       "      <td>0.000000</td>\n",
       "      <td>0.000000</td>\n",
       "      <td>0.000000</td>\n",
       "      <td>0.000000</td>\n",
       "      <td>0.000000</td>\n",
       "      <td>0.000000</td>\n",
       "      <td>0.000000</td>\n",
       "    </tr>\n",
       "    <tr>\n",
       "      <th>75%</th>\n",
       "      <td>12.000000</td>\n",
       "      <td>7547.000000</td>\n",
       "      <td>877.000000</td>\n",
       "      <td>1.000000</td>\n",
       "      <td>0.000000</td>\n",
       "      <td>7520.000000</td>\n",
       "      <td>0.000000</td>\n",
       "      <td>0.000000</td>\n",
       "      <td>0.000000</td>\n",
       "      <td>0.000000</td>\n",
       "      <td>0.000000</td>\n",
       "      <td>0.000000</td>\n",
       "      <td>0.000000</td>\n",
       "    </tr>\n",
       "    <tr>\n",
       "      <th>max</th>\n",
       "      <td>15.000000</td>\n",
       "      <td>22822.000000</td>\n",
       "      <td>2849.000000</td>\n",
       "      <td>1.000000</td>\n",
       "      <td>1.000000</td>\n",
       "      <td>29910.000000</td>\n",
       "      <td>1.000000</td>\n",
       "      <td>1.000000</td>\n",
       "      <td>1.000000</td>\n",
       "      <td>1.000000</td>\n",
       "      <td>1.000000</td>\n",
       "      <td>1.000000</td>\n",
       "      <td>1.000000</td>\n",
       "    </tr>\n",
       "  </tbody>\n",
       "</table>\n",
       "</div>"
      ],
      "text/plain": [
       "              Store         Sales     Customers         Promo  SchoolHoliday  \\\n",
       "count  11729.000000  11729.000000  11729.000000  11729.000000   11729.000000   \n",
       "mean       7.999915   6163.323472    731.306079      0.450081       0.197800   \n",
       "std        4.319412   2399.510012    286.726340      0.497523       0.398358   \n",
       "min        1.000000    612.000000     93.000000      0.000000       0.000000   \n",
       "25%        4.000000   4430.000000    532.000000      0.000000       0.000000   \n",
       "50%        8.000000   5734.000000    666.000000      0.000000       0.000000   \n",
       "75%       12.000000   7547.000000    877.000000      1.000000       0.000000   \n",
       "max       15.000000  22822.000000   2849.000000      1.000000       1.000000   \n",
       "\n",
       "       CompetitionDistance   DayOfWeek_0   DayOfWeek_1   DayOfWeek_2  \\\n",
       "count         11729.000000  11729.000000  11729.000000  11729.000000   \n",
       "mean           5823.814477      0.142212      0.143320      0.143405   \n",
       "std            9082.809657      0.349282      0.350414      0.350501   \n",
       "min              40.000000      0.000000      0.000000      0.000000   \n",
       "25%             620.000000      0.000000      0.000000      0.000000   \n",
       "50%            1070.000000      0.000000      0.000000      0.000000   \n",
       "75%            7520.000000      0.000000      0.000000      0.000000   \n",
       "max           29910.000000      1.000000      1.000000      1.000000   \n",
       "\n",
       "        DayOfWeek_3   DayOfWeek_4   DayOfWeek_5   DayOfWeek_6  \n",
       "count  11729.000000  11729.000000  11729.000000  11729.000000  \n",
       "mean       0.143149      0.142808      0.142638      0.142467  \n",
       "std        0.350240      0.349892      0.349718      0.349544  \n",
       "min        0.000000      0.000000      0.000000      0.000000  \n",
       "25%        0.000000      0.000000      0.000000      0.000000  \n",
       "50%        0.000000      0.000000      0.000000      0.000000  \n",
       "75%        0.000000      0.000000      0.000000      0.000000  \n",
       "max        1.000000      1.000000      1.000000      1.000000  "
      ]
     },
     "execution_count": 9,
     "metadata": {},
     "output_type": "execute_result"
    }
   ],
   "source": [
    "df.describe()"
   ]
  },
  {
   "cell_type": "code",
   "execution_count": 12,
   "metadata": {},
   "outputs": [
    {
     "data": {
      "text/plain": [
       "Index(['Store', 'Date', 'Sales', 'Customers', 'Promo', 'SchoolHoliday',\n",
       "       'CompetitionDistance', 'DayOfWeek_0', 'DayOfWeek_1', 'DayOfWeek_2',\n",
       "       'DayOfWeek_3', 'DayOfWeek_4', 'DayOfWeek_5', 'DayOfWeek_6'],\n",
       "      dtype='object')"
      ]
     },
     "execution_count": 12,
     "metadata": {},
     "output_type": "execute_result"
    }
   ],
   "source": [
    "df.columns"
   ]
  },
  {
   "cell_type": "code",
   "execution_count": 17,
   "metadata": {},
   "outputs": [
    {
     "name": "stderr",
     "output_type": "stream",
     "text": [
      "C:\\Users\\trishala\\Anaconda3\\lib\\site-packages\\IPython\\core\\interactiveshell.py:3020: DtypeWarning: Columns (7) have mixed types.Specify dtype option on import or set low_memory=False.\n",
      "  interactivity=interactivity, compiler=compiler, result=result)\n"
     ]
    }
   ],
   "source": [
    "df1 = pd.read_csv('./data/data/train.csv')"
   ]
  },
  {
   "cell_type": "code",
   "execution_count": 18,
   "metadata": {},
   "outputs": [
    {
     "data": {
      "text/plain": [
       "Index(['Store', 'Date', 'Sales', 'Customers', 'Promo', 'SchoolHoliday',\n",
       "       'CompetitionDistance', 'DayOfWeek_0', 'DayOfWeek_1', 'DayOfWeek_2',\n",
       "       'DayOfWeek_3', 'DayOfWeek_4', 'DayOfWeek_5', 'DayOfWeek_6'],\n",
       "      dtype='object')"
      ]
     },
     "execution_count": 18,
     "metadata": {},
     "output_type": "execute_result"
    }
   ],
   "source": [
    "df.columns\n"
   ]
  },
  {
   "cell_type": "code",
   "execution_count": null,
   "metadata": {},
   "outputs": [],
   "source": []
  }
 ],
 "metadata": {
  "kernelspec": {
   "display_name": "Python 3",
   "language": "python",
   "name": "python3"
  },
  "language_info": {
   "codemirror_mode": {
    "name": "ipython",
    "version": 3
   },
   "file_extension": ".py",
   "mimetype": "text/x-python",
   "name": "python",
   "nbconvert_exporter": "python",
   "pygments_lexer": "ipython3",
   "version": "3.7.1"
  }
 },
 "nbformat": 4,
 "nbformat_minor": 2
}
